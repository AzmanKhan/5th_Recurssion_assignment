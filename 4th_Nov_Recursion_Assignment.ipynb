{
 "cells": [
  {
   "cell_type": "markdown",
   "id": "522e7680-e50e-4418-af22-65ca89a0a80b",
   "metadata": {},
   "source": [
    "# Q.1 Can you explain the logic and working of the Tower of Hanoi algorithm by writing a Java program? How does the recursion work, and how are the movements of disks between rods accomplished? "
   ]
  },
  {
   "cell_type": "code",
   "execution_count": 3,
   "id": "daf7b208-1b91-45d3-8dfe-d70c0270705a",
   "metadata": {},
   "outputs": [
    {
     "name": "stdout",
     "output_type": "stream",
     "text": [
      "Move disk 1 from rod A to rod C\n",
      "Move disk 2 from rod A to rod B\n",
      "Move disk 1 from rod C to rod B\n",
      "Move disk 3 from rod A to rod C\n",
      "Move disk 1 from rod B to rod A\n",
      "Move disk 2 from rod B to rod C\n",
      "Move disk 1 from rod A to rod C\n"
     ]
    }
   ],
   "source": [
    "def TowerOfHanoi(n, from_rod, to_rod, aux_rod): \n",
    "    if n == 0: \n",
    "        return\n",
    "    \n",
    "    TowerOfHanoi(n-1, from_rod, aux_rod, to_rod) \n",
    "    print(\"Move disk\", n, \"from rod\", from_rod, \"to rod\", to_rod) \n",
    "    TowerOfHanoi(n-1, aux_rod, to_rod, from_rod)\n",
    "    \n",
    "n = 3\n",
    "  \n",
    "# A, C, B are the name of rods \n",
    "TowerOfHanoi(n, 'A', 'C', 'B') "
   ]
  },
  {
   "cell_type": "markdown",
   "id": "871ce149-fbe7-495e-9762-d98252012d6f",
   "metadata": {},
   "source": [
    "# Q.2 Given two strings word1 and word2, return the minimum number of operations required to convert word1 to word2.\n"
   ]
  },
  {
   "cell_type": "code",
   "execution_count": 3,
   "id": "a047dda6-bad6-4e32-9921-154bb37ee5a9",
   "metadata": {},
   "outputs": [
    {
     "name": "stdout",
     "output_type": "stream",
     "text": [
      "3\n",
      "5\n"
     ]
    }
   ],
   "source": [
    "def minDistance(word1: str, word2: str) -> int:\n",
    "    m, n = len(word1), len(word2)\n",
    "    dp = [[0] * (n+1) for _ in range(m+1)]\n",
    "    \n",
    "    # Initialize first row and column\n",
    "    for i in range(m+1):\n",
    "        dp[i][0] = i\n",
    "    for j in range(n+1):\n",
    "        dp[0][j] = j\n",
    "    \n",
    "    # Fill in dp array\n",
    "    for i in range(1, m+1):\n",
    "        for j in range(1, n+1):\n",
    "            if word1[i-1] == word2[j-1]:\n",
    "                dp[i][j] = dp[i-1][j-1]\n",
    "            else:\n",
    "                dp[i][j] = min(dp[i-1][j] + 1,     # deletion\n",
    "                               dp[i][j-1] + 1,     # insertion\n",
    "                               dp[i-1][j-1] + 1)  # replacement\n",
    "    \n",
    "    return dp[m][n]\n",
    "\n",
    "# Test cases\n",
    "word1_1 = \"horse\"\n",
    "word2_1 = \"ros\"\n",
    "print(minDistance(word1_1, word2_1)) \n",
    "\n",
    "word1_2 = \"intention\"\n",
    "word2_2 = \"execution\"\n",
    "print(minDistance(word1_2, word2_2)) "
   ]
  },
  {
   "cell_type": "markdown",
   "id": "952349b6-a4e1-4dc7-aebe-88948792f3aa",
   "metadata": {},
   "source": [
    "# Q. 3 Print the max value of the array [ 13, 1, -3, 22, 5]."
   ]
  },
  {
   "cell_type": "code",
   "execution_count": 2,
   "id": "4707bfd9-9013-475a-9a34-8f1a8b520a6c",
   "metadata": {},
   "outputs": [
    {
     "name": "stdout",
     "output_type": "stream",
     "text": [
      "The maximum value of the array is: 22\n"
     ]
    }
   ],
   "source": [
    "def find_max(arr, n):\n",
    "    # Base case: if array contains only one element, return that element\n",
    "    if n == 1:\n",
    "        return arr[0]\n",
    "    \n",
    "    # Recursive call to find maximum of n-1 elements\n",
    "    max_rest = find_max(arr, n - 1)\n",
    "    \n",
    "    # Compare the maximum of n-1 elements with the nth element\n",
    "    return max(max_rest, arr[n - 1])\n",
    "\n",
    "arr = [13, 1, -3, 22, 5]\n",
    "# Call the function with the array and its length\n",
    "max_value = find_max(arr, len(arr))\n",
    "print(\"The maximum value of the array is:\", max_value)\n"
   ]
  },
  {
   "cell_type": "markdown",
   "id": "0bbc27f8-b0bb-4b62-a83d-d900a7715627",
   "metadata": {},
   "source": [
    "# Q.4 Find the sum of the values of the array [92, 23, 15, -20, 10]."
   ]
  },
  {
   "cell_type": "code",
   "execution_count": 4,
   "id": "7e0f4d41-fd35-413b-8dcb-f5a354175268",
   "metadata": {},
   "outputs": [
    {
     "name": "stdout",
     "output_type": "stream",
     "text": [
      "The sum of the values of the array is: 120\n"
     ]
    }
   ],
   "source": [
    "def array_sum(arr):\n",
    "    # Base case: if array is empty, return 0\n",
    "    if not arr:\n",
    "        return 0\n",
    "    \n",
    "    # Recursive call to find sum of elements except the first one\n",
    "    rest_sum = array_sum(arr[1:])\n",
    "    \n",
    "    # Return sum of current element and sum of rest of the elements\n",
    "    return arr[0] + rest_sum\n",
    "\n",
    "arr = [92, 23, 15, -20, 10]\n",
    "# Call the function with the array\n",
    "sum_of_array = array_sum(arr)\n",
    "print(\"The sum of the values of the array is:\", sum_of_array)"
   ]
  },
  {
   "cell_type": "markdown",
   "id": "a337f442-d139-4009-b363-43b6ae6e9af7",
   "metadata": {},
   "source": [
    "# Q.5 Given a number n. Print if it is an armstrong number or not.An armstrong number is a number if the sum of every digit in that number raised to the power of total digits in that number is equal to the number.\n",
    "\n",
    "# Example : 153 = 1^3 + 5^3 + 3^3 = 1 + 125 + 27 = 153 hence 153 is an armstrong number. \n",
    "# Input1 : 153 Output1 : Yes\n",
    "# Input 2 : 134 Output2 : No"
   ]
  },
  {
   "cell_type": "code",
   "execution_count": 5,
   "id": "116da684-389b-4bfc-8002-bbbbd6e85c71",
   "metadata": {},
   "outputs": [
    {
     "name": "stdout",
     "output_type": "stream",
     "text": [
      "Input 1: 153\n",
      "Output 1: Yes\n",
      "Input 2: 134\n",
      "Output 2: No\n"
     ]
    }
   ],
   "source": [
    "def is_armstrong_number(n):\n",
    "    # Convert the number to a string to count the number of digits\n",
    "    num_str = str(n)\n",
    "    num_digits = len(num_str)\n",
    "    \n",
    "    # Compute the sum of each digit raised to the power of the total number of digits\n",
    "    armstrong_sum = sum(int(digit)**num_digits for digit in num_str)\n",
    "    \n",
    "    # Check if the result is equal to the original number\n",
    "    return armstrong_sum == n\n",
    "\n",
    "input1 = 153\n",
    "output1 = \"Yes\" if is_armstrong_number(input1) else \"No\"\n",
    "print(\"Input 1:\", input1)\n",
    "print(\"Output 1:\", output1)\n",
    "\n",
    "input2 = 134\n",
    "output2 = \"Yes\" if is_armstrong_number(input2) else \"No\"\n",
    "print(\"Input 2:\", input2)\n",
    "print(\"Output 2:\", output2)\n"
   ]
  },
  {
   "cell_type": "code",
   "execution_count": null,
   "id": "61cb0439-a744-45ce-b0ce-8a08106d09cc",
   "metadata": {},
   "outputs": [],
   "source": []
  }
 ],
 "metadata": {
  "kernelspec": {
   "display_name": "Python 3 (ipykernel)",
   "language": "python",
   "name": "python3"
  },
  "language_info": {
   "codemirror_mode": {
    "name": "ipython",
    "version": 3
   },
   "file_extension": ".py",
   "mimetype": "text/x-python",
   "name": "python",
   "nbconvert_exporter": "python",
   "pygments_lexer": "ipython3",
   "version": "3.10.8"
  }
 },
 "nbformat": 4,
 "nbformat_minor": 5
}
